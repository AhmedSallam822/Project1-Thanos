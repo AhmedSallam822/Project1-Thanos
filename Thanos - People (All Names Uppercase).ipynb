{
 "cells": [
  {
   "cell_type": "markdown",
   "metadata": {},
   "source": [
    "<img src=\"thanos.jpg\">"
   ]
  },
  {
   "cell_type": "markdown",
   "metadata": {},
   "source": [
    "# Project 1 - Thanos"
   ]
  },
  {
   "cell_type": "markdown",
   "metadata": {},
   "source": [
    "### 1. Import libraries (os, random, time)"
   ]
  },
  {
   "cell_type": "code",
   "execution_count": 3,
   "metadata": {},
   "outputs": [],
   "source": [
    "import os\n",
    "import time"
   ]
  },
  {
   "cell_type": "markdown",
   "metadata": {},
   "source": [
    "### 2. Create function to read all the files (people) from a directory. The function takes the location path as input and returns a list with the files in the folder"
   ]
  },
  {
   "cell_type": "code",
   "execution_count": 4,
   "metadata": {},
   "outputs": [],
   "source": [
    "def get_universe_people(path):\n",
    "    people = os.listdir(path)\n",
    "    return people"
   ]
  },
  {
   "cell_type": "markdown",
   "metadata": {},
   "source": [
    "### 3. Create a list called 'universe' that contains our people"
   ]
  },
  {
   "cell_type": "code",
   "execution_count": 5,
   "metadata": {},
   "outputs": [
    {
     "data": {
      "text/plain": [
       "['Adam Sandler.jpg',\n",
       " 'Angelina Julie.png',\n",
       " 'Ariana Grande.jpeg',\n",
       " 'Ben Affleck.jpg',\n",
       " 'Ben Stiller.jpg',\n",
       " 'Bill Gates.jpg',\n",
       " 'Brad Pitt.jpg',\n",
       " 'Britney Spears.jpg',\n",
       " 'Bruce Lee.jpg',\n",
       " 'Cameron Diaz.jpg',\n",
       " 'Dwayne Johnson.jpg',\n",
       " 'Elon Musk.jpg',\n",
       " 'Elton John.jpg',\n",
       " 'Jack Black.jpg',\n",
       " 'Jackie Chan.jpg',\n",
       " 'Jamie Foxx.jpg',\n",
       " 'Jason Segel.jpg',\n",
       " 'Jason Statham.jpg',\n",
       " 'Jeff Bezos.jpg',\n",
       " 'Jennifer Aniston.jpg',\n",
       " 'Jennifer Lopez.jpg',\n",
       " 'Jerry Seinfeld.jpg',\n",
       " 'Jim Carrey.jpg',\n",
       " 'John Cena.jpg',\n",
       " 'Johnny Depp.jpg',\n",
       " 'Josh Radnor.jpg',\n",
       " 'Julia Roberts.jpg',\n",
       " 'Justin Timberlake.jpg',\n",
       " 'Kate Upton.jpg',\n",
       " 'Keanu Reeves.jpg',\n",
       " 'Kevin Hart.jpg',\n",
       " 'Madonna.jpg',\n",
       " 'Mark Ruffalo.jpg',\n",
       " 'Mark Zuckerberg.jpg',\n",
       " 'Matt Damon.jpg',\n",
       " 'Michael Jackson.jpg',\n",
       " 'Michael Jordan.jpg',\n",
       " 'Mindy Kaling.jpg',\n",
       " 'Miranda Cosgrove.jpg',\n",
       " 'Neil Patrick Harris.jpg',\n",
       " 'Nick Jonas.jpg',\n",
       " 'Nicole Kidman.jpg',\n",
       " 'Paul Rudd.jpg',\n",
       " 'Robin Williams.jpg',\n",
       " 'Steve Carell.jpg',\n",
       " 'Steve Jobs.jpg',\n",
       " 'Sylvester Stallone.jpg',\n",
       " 'Tom Cruise.jpg',\n",
       " 'Will Ferrell.jpg',\n",
       " 'Will Smith.jpg']"
      ]
     },
     "execution_count": 5,
     "metadata": {},
     "output_type": "execute_result"
    }
   ],
   "source": [
    "Universe = get_universe_people(\"parallel_universe\")\n",
    "Universe"
   ]
  },
  {
   "cell_type": "markdown",
   "metadata": {},
   "source": [
    "### 4. Check how many people there are in the universe (length of the list)"
   ]
  },
  {
   "cell_type": "code",
   "execution_count": 6,
   "metadata": {},
   "outputs": [
    {
     "data": {
      "text/plain": [
       "50"
      ]
     },
     "execution_count": 6,
     "metadata": {},
     "output_type": "execute_result"
    }
   ],
   "source": [
    "len(Universe)"
   ]
  },
  {
   "cell_type": "markdown",
   "metadata": {},
   "source": [
    "### 5. When Thanos snaps his hands, he remane the  name of All People. Create a function 'snap' to simulate thanos snapping, Renaming the images in the universe folder <br> The images should be selected from the list . <br> People should be Renamed with a 1 second interval"
   ]
  },
  {
   "cell_type": "code",
   "execution_count": 36,
   "metadata": {},
   "outputs": [],
   "source": [
    "def rename(universe):\n",
    "    for i in universe:\n",
    "        person = i.split(sep=\".\")\n",
    "        person[0] = person[0].upper()\n",
    "        os.rename(\"parallel_universe/\"+ i ,\"parallel_universe/\"+\".\".join(person))\n",
    "        universe = \".\".join(person)\n",
    "        print(f\"Uppercase named person : {'.'.join(person)}\")\n",
    "        time.sleep(1)  \n",
    "            \n",
    "    print(\"Perfecly balanced , as all things should be\")\n",
    "       "
   ]
  },
  {
   "cell_type": "code",
   "execution_count": 37,
   "metadata": {},
   "outputs": [
    {
     "name": "stdout",
     "output_type": "stream",
     "text": [
      "Uppercase named person : ADAM SANDLER.jpg\n",
      "Uppercase named person : ANGELINA JULIE.png\n",
      "Uppercase named person : ARIANA GRANDE.jpeg\n",
      "Uppercase named person : BEN AFFLECK.jpg\n",
      "Uppercase named person : BEN STILLER.jpg\n",
      "Uppercase named person : BILL GATES.jpg\n",
      "Uppercase named person : BRAD PITT.jpg\n",
      "Uppercase named person : BRITNEY SPEARS.jpg\n",
      "Uppercase named person : BRUCE LEE.jpg\n",
      "Uppercase named person : CAMERON DIAZ.jpg\n",
      "Uppercase named person : DWAYNE JOHNSON.jpg\n",
      "Uppercase named person : ELON MUSK.jpg\n",
      "Uppercase named person : ELTON JOHN.jpg\n",
      "Uppercase named person : JACK BLACK.jpg\n",
      "Uppercase named person : JAMIE FOXX.jpg\n",
      "Uppercase named person : JASON SEGEL.jpg\n",
      "Uppercase named person : JASON STATHAM.jpg\n",
      "Uppercase named person : JEFF BEZOS.jpg\n",
      "Uppercase named person : JENNIFER ANISTON.jpg\n",
      "Uppercase named person : JENNIFER LOPEZ.jpg\n",
      "Uppercase named person : JERRY SEINFELD.jpg\n",
      "Uppercase named person : JOHNNY DEPP.jpg\n",
      "Uppercase named person : JOSH RADNOR.jpg\n",
      "Uppercase named person : JULIA ROBERTS.jpg\n",
      "Uppercase named person : JUSTIN TIMBERLAKE.jpg\n",
      "Uppercase named person : KATE UPTON.jpg\n",
      "Uppercase named person : KEANU REEVES.jpg\n",
      "Uppercase named person : KEVIN HART.jpg\n",
      "Uppercase named person : MADONNA.jpg\n",
      "Uppercase named person : MARK RUFFALO.jpg\n",
      "Uppercase named person : MARK ZUCKERBERG.jpg\n",
      "Uppercase named person : MATT DAMON.jpg\n",
      "Uppercase named person : MICHAEL JACKSON.jpg\n",
      "Uppercase named person : MICHAEL JORDAN.jpg\n",
      "Uppercase named person : MINDY KALING.jpg\n",
      "Uppercase named person : NEIL PATRICK HARRIS.jpg\n",
      "Uppercase named person : NICK JONAS.jpg\n",
      "Uppercase named person : NICOLE KIDMAN.jpg\n",
      "Uppercase named person : PAUL RUDD.jpg\n",
      "Uppercase named person : ROBIN WILLIAMS.jpg\n",
      "Uppercase named person : STEVE JOBS.jpg\n",
      "Uppercase named person : SYLVESTER STALLONE.jpg\n",
      "Uppercase named person : WILL FERRELL.jpg\n",
      "Uppercase named person : WILL SMITH.jpg\n",
      "Perfecly balanced , as all things should be\n"
     ]
    }
   ],
   "source": [
    "rename(Universe)"
   ]
  },
  {
   "cell_type": "markdown",
   "metadata": {},
   "source": [
    "### 6. Check how the new universe looks"
   ]
  },
  {
   "cell_type": "code",
   "execution_count": null,
   "metadata": {},
   "outputs": [],
   "source": [
    "new_universe = get_universe_people(\"parallel_universe\")\n",
    "new_universe"
   ]
  },
  {
   "cell_type": "code",
   "execution_count": null,
   "metadata": {},
   "outputs": [],
   "source": [
    "len(new_universe)"
   ]
  },
  {
   "cell_type": "markdown",
   "metadata": {},
   "source": [
    "### Extra Excercises:\n",
    "\n",
    "- (Medium) Re-implement the Thanos project, but delete the people whose name starts with 'M' or 'N'\n",
    "- (Hard) Re-implement the Thanos project, but delete the people whose LAST name starts with 'C'"
   ]
  },
  {
   "cell_type": "markdown",
   "metadata": {},
   "source": [
    "# Great Work!"
   ]
  }
 ],
 "metadata": {
  "kernelspec": {
   "display_name": "Python 3",
   "language": "python",
   "name": "python3"
  },
  "language_info": {
   "codemirror_mode": {
    "name": "ipython",
    "version": 3
   },
   "file_extension": ".py",
   "mimetype": "text/x-python",
   "name": "python",
   "nbconvert_exporter": "python",
   "pygments_lexer": "ipython3",
   "version": "3.8.8"
  }
 },
 "nbformat": 4,
 "nbformat_minor": 2
}
